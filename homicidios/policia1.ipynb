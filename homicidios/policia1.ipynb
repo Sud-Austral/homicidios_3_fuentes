{
 "cells": [
  {
   "cell_type": "code",
   "execution_count": 1,
   "id": "ec9fe2e1-0925-4cca-aa81-f743eeb77eb9",
   "metadata": {},
   "outputs": [],
   "source": [
    "import requests\n",
    "import pandas as pd\n",
    "url = \"https://homicidios.spd.gov.cl/homicidios/estadisticasPoliciales-ajax.php\"\n",
    "headers = {\n",
    "    \"User-Agent\": \"Mozilla/5.0 (Windows NT 10.0; Win64; x64; rv:137.0) Gecko/20100101 Firefox/137.0\",\n",
    "    \"Accept\": \"text/plain, */*; q=0.01\",\n",
    "    \"Accept-Language\": \"es-CL,es;q=0.8,en-US;q=0.5,en;q=0.3\",\n",
    "    \"Content-Type\": \"application/x-www-form-urlencoded; charset=UTF-8\",\n",
    "    \"X-Requested-With\": \"XMLHttpRequest\",\n",
    "    \"Sec-Fetch-Dest\": \"empty\",\n",
    "    \"Sec-Fetch-Mode\": \"cors\",\n",
    "    \"Sec-Fetch-Site\": \"same-origin\",\n",
    "    \"Priority\": \"u=0\",\n",
    "    \"Referer\": \"https://homicidios.spd.gov.cl/homicidios/estadisticasPoliciales.php\"\n",
    "}\n",
    "data = {\n",
    "    \"token\": \"202d8f3ba54058c848b7d7a6dbcf60bf\",\n",
    "    \"numPagina\": \"1\",\n",
    "    \"regPagina\": \"16\",\n",
    "    \"atr01\": \"2025\",\n",
    "    \"atr02\": \"Febrero\",\n",
    "    \"atr03\": \"\"\n",
    "}\n",
    "\n",
    "response = requests.post(url, headers=headers, data=data)\n",
    "#print(response.text)"
   ]
  },
  {
   "cell_type": "code",
   "execution_count": 7,
   "id": "df41e030-77e7-455f-9cf5-ae13c09df501",
   "metadata": {},
   "outputs": [
    {
     "name": "stderr",
     "output_type": "stream",
     "text": [
      "C:\\Users\\limc_\\AppData\\Local\\Temp\\ipykernel_268\\2314364500.py:5: FutureWarning: Passing literal html to 'read_html' is deprecated and will be removed in a future version. To read from a literal string, wrap it in a 'StringIO' object.\n",
      "  df = pd.read_html(response.text)\n",
      "C:\\Users\\limc_\\AppData\\Local\\Temp\\ipykernel_268\\2314364500.py:5: FutureWarning: Passing literal html to 'read_html' is deprecated and will be removed in a future version. To read from a literal string, wrap it in a 'StringIO' object.\n",
      "  df = pd.read_html(response.text)\n",
      "C:\\Users\\limc_\\AppData\\Local\\Temp\\ipykernel_268\\2314364500.py:5: FutureWarning: Passing literal html to 'read_html' is deprecated and will be removed in a future version. To read from a literal string, wrap it in a 'StringIO' object.\n",
      "  df = pd.read_html(response.text)\n"
     ]
    }
   ],
   "source": [
    "for i in [\"Enero\",\"Febrero\",\"Marzo\"]:\n",
    "    data2 = data.copy()\n",
    "    data2[\"atr02\"] = i\n",
    "    response = requests.post(url, headers=headers, data=data2)\n",
    "    df = pd.read_html(response.text)\n",
    "    df = df[1]\n",
    "    df[\"fuente\"] = \"Carabineros de Chile y la Policía de Investigaciones de Chile\"\n",
    "    df.to_csv(f\"policia/Policiales_{data2['atr01']}_{i}.csv\", index=False)\n",
    "    "
   ]
  },
  {
   "cell_type": "code",
   "execution_count": null,
   "id": "6e3b8bbd-bb0d-4d68-b504-f7a015e231e9",
   "metadata": {},
   "outputs": [],
   "source": []
  }
 ],
 "metadata": {
  "kernelspec": {
   "display_name": "Python 3 (ipykernel)",
   "language": "python",
   "name": "python3"
  },
  "language_info": {
   "codemirror_mode": {
    "name": "ipython",
    "version": 3
   },
   "file_extension": ".py",
   "mimetype": "text/x-python",
   "name": "python",
   "nbconvert_exporter": "python",
   "pygments_lexer": "ipython3",
   "version": "3.12.4"
  }
 },
 "nbformat": 4,
 "nbformat_minor": 5
}
